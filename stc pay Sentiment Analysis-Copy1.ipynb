{
 "cells": [
  {
   "cell_type": "markdown",
   "id": "54dbccc1",
   "metadata": {},
   "source": [
    "# stc pay"
   ]
  },
  {
   "cell_type": "code",
   "execution_count": 2,
   "id": "3d2fd871",
   "metadata": {},
   "outputs": [],
   "source": [
    "#Cell No. 1\n",
    "import os\n",
    "import tweepy\n",
    "import pandas as pd \n",
    "from time import sleep"
   ]
  },
  {
   "cell_type": "code",
   "execution_count": 3,
   "id": "3f4f0d08",
   "metadata": {},
   "outputs": [],
   "source": [
    "#Cell No. 2\n",
    "ACCESS_TOKEN = '1042866445154246656-PPMncxNFm54Jpx46txGmQnlZnoM9Bb'\n",
    "ACCESS_TOKEN_SECRET = 'taEQDb1fPtLpV4Zhgk1WxfcP4Ue4U3jKbuPGwYhYTH9Pt'\n",
    "CONSUMER_KEY = 'xOwthkCW5VEUEFbaO6npvZqx5'\n",
    "CONSUMER_SECRET = 'GQtvWimqUX4hso29AediaofzWejQFiXMxpEtc5xig8fKt2ixG4'\n",
    "BEARER_TOKEN = 'AAAAAAAAAAAAAAAAAAAAACSEZAEAAAAAky0nVS%2BOTnyFis52x7RRXswf15o%3DsvRJhBMPlP9lJIwWCWYZRthRNLIogOiU0JptcJntRoHYJ9ZOI9'"
   ]
  },
  {
   "cell_type": "code",
   "execution_count": 4,
   "id": "354b9e40",
   "metadata": {},
   "outputs": [],
   "source": [
    "#Cell No. 3\n",
    "auth = tweepy.OAuthHandler(CONSUMER_KEY, CONSUMER_SECRET)\n",
    "auth.set_access_token(ACCESS_TOKEN, ACCESS_TOKEN_SECRET)\n",
    "api = tweepy.API(auth)"
   ]
  },
  {
   "cell_type": "code",
   "execution_count": 8,
   "id": "6b0ef025",
   "metadata": {},
   "outputs": [],
   "source": [
    "#Cell No. 4\n",
    "search_phrase = 'stc pay-filter:retweets'\n",
    "tweets = []\n",
    "likes = []\n",
    "time = []\n",
    "retweets = []\n",
    "for tweet in tweepy.Cursor(api.search_tweets,tweet_mode = 'extended',\n",
    "                           q = search_phrase, lang = \"ar\").items():\n",
    "    sleep(1)\n",
    "    tweets.append(tweet.full_text)\n",
    "    likes.append(tweet.favorite_count)\n",
    "    time.append(tweet.created_at)\n",
    "    retweets.append(tweet.retweet_count)"
   ]
  },
  {
   "cell_type": "code",
   "execution_count": 9,
   "id": "318bf410",
   "metadata": {},
   "outputs": [],
   "source": [
    "#Cell No. 5\n",
    "df = pd.DataFrame({'Tweet': tweets,\n",
    "                   ' No. Likes': likes,\n",
    "                   'Time': time, 'No. Retweets': retweets})\n",
    "df.to_csv('stc pay-no retweets.csv')"
   ]
  },
  {
   "cell_type": "code",
   "execution_count": null,
   "id": "42404c2b",
   "metadata": {},
   "outputs": [],
   "source": [
    "#Cell No. 6\n",
    "search_phrase = 'stcpay-filter:retweets'\n",
    "tweets = []\n",
    "likes = []\n",
    "time = []\n",
    "retweets = []\n",
    "for tweet in tweepy.Cursor(api.search_tweets,tweet_mode = 'extended',\n",
    "                           q = search_phrase, lang = \"ar\").items():\n",
    "    sleep(1)\n",
    "    tweets.append(tweet.full_text)\n",
    "    likes.append(tweet.favorite_count)\n",
    "    time.append(tweet.created_at)\n",
    "    retweets.append(tweet.retweet_count)"
   ]
  },
  {
   "cell_type": "code",
   "execution_count": null,
   "id": "24085618",
   "metadata": {},
   "outputs": [],
   "source": [
    "#Cell No. 7\n",
    "df = pd.DataFrame({'Tweet': tweets,\n",
    "                   ' No. Likes': likes,\n",
    "                   'Time': time, 'No. Retweets': retweets})\n",
    "df.to_csv('stcpay-no retweets.csv')"
   ]
  },
  {
   "cell_type": "code",
   "execution_count": 10,
   "id": "be5aa33d",
   "metadata": {},
   "outputs": [],
   "source": [
    "#Cell No. 8\n",
    "search_phrase = 'خدمة اس تي سي باي-filter:retweets'\n",
    "tweets = []\n",
    "likes = []\n",
    "time = []\n",
    "retweets = []\n",
    "for tweet in tweepy.Cursor(api.search_tweets,tweet_mode = 'extended',\n",
    "                           q = search_phrase, lang = \"ar\").items():\n",
    "    sleep(1)\n",
    "    tweets.append(tweet.full_text)\n",
    "    likes.append(tweet.favorite_count)\n",
    "    time.append(tweet.created_at)\n",
    "    retweets.append(tweet.retweet_count)"
   ]
  },
  {
   "cell_type": "code",
   "execution_count": 11,
   "id": "ca6901af",
   "metadata": {},
   "outputs": [],
   "source": [
    "#Cell No. 9\n",
    "df = pd.DataFrame({'Tweet': tweets,\n",
    "                   ' No. Likes': likes,\n",
    "                   'Time': time, 'No. Retweets': retweets})\n",
    "df.to_csv('خدمة اس تي سي باي-no retweets.csv')"
   ]
  },
  {
   "cell_type": "code",
   "execution_count": 12,
   "id": "bc92d0d1",
   "metadata": {},
   "outputs": [],
   "source": [
    "#Cell No. 10\n",
    "search_phrase = 'خدمة تطبيق stcpay-filter:retweets'\n",
    "tweets = []\n",
    "likes = []\n",
    "time = []\n",
    "retweets = []\n",
    "for tweet in tweepy.Cursor(api.search_tweets,tweet_mode = 'extended',\n",
    "                           q = search_phrase, lang = \"ar\").items():\n",
    "    sleep(1)\n",
    "    tweets.append(tweet.full_text)\n",
    "    likes.append(tweet.favorite_count)\n",
    "    time.append(tweet.created_at)\n",
    "    retweets.append(tweet.retweet_count)"
   ]
  },
  {
   "cell_type": "code",
   "execution_count": 13,
   "id": "7ee4405d",
   "metadata": {},
   "outputs": [],
   "source": [
    "#Cell No. 11\n",
    "df = pd.DataFrame({'Tweet': tweets,\n",
    "                   ' No. Likes': likes,\n",
    "                   'Time': time, 'No. Retweets': retweets})\n",
    "df.to_csv('خدمة تطبيق stcpay-no retweets.csv')"
   ]
  },
  {
   "cell_type": "code",
   "execution_count": 14,
   "id": "fc53b0ff",
   "metadata": {},
   "outputs": [],
   "source": [
    "#Cell No. 12\n",
    "search_phrase = 'خدمة stcpay-filter:retweets'\n",
    "tweets = []\n",
    "likes = []\n",
    "time = []\n",
    "retweets = []\n",
    "for tweet in tweepy.Cursor(api.search_tweets,tweet_mode = 'extended',\n",
    "                           q = search_phrase, lang = \"ar\").items():\n",
    "    sleep(1)\n",
    "    tweets.append(tweet.full_text)\n",
    "    likes.append(tweet.favorite_count)\n",
    "    time.append(tweet.created_at)\n",
    "    retweets.append(tweet.retweet_count)"
   ]
  },
  {
   "cell_type": "code",
   "execution_count": 15,
   "id": "7c910027",
   "metadata": {},
   "outputs": [],
   "source": [
    "#Cell No. 13\n",
    "df = pd.DataFrame({'Tweet': tweets,\n",
    "                   ' No. Likes': likes,\n",
    "                   'Time': time, 'No. Retweets': retweets})\n",
    "df.to_csv('خدمة stcpay-no retweets.csv')"
   ]
  },
  {
   "cell_type": "code",
   "execution_count": 16,
   "id": "d1270725",
   "metadata": {},
   "outputs": [],
   "source": [
    "#Cell No. 14\n",
    "search_phrase = 'محفظة اس تي سي باي-filter:retweets'\n",
    "tweets = []\n",
    "likes = []\n",
    "time = []\n",
    "retweets = []\n",
    "for tweet in tweepy.Cursor(api.search_tweets,tweet_mode = 'extended',\n",
    "                           q = search_phrase, lang = \"ar\").items():\n",
    "    sleep(1)\n",
    "    tweets.append(tweet.full_text)\n",
    "    likes.append(tweet.favorite_count)\n",
    "    time.append(tweet.created_at)\n",
    "    retweets.append(tweet.retweet_count)"
   ]
  },
  {
   "cell_type": "code",
   "execution_count": 17,
   "id": "09357b04",
   "metadata": {},
   "outputs": [],
   "source": [
    "#Cell No. 15\n",
    "df = pd.DataFrame({'Tweet': tweets,\n",
    "                   ' No. Likes': likes,\n",
    "                   'Time': time, 'No. Retweets': retweets})\n",
    "df.to_csv('-no retweetsمحفظة اس تي سي باي.csv')"
   ]
  },
  {
   "cell_type": "code",
   "execution_count": null,
   "id": "fcd18a53",
   "metadata": {},
   "outputs": [],
   "source": []
  }
 ],
 "metadata": {
  "kernelspec": {
   "display_name": "Python 3 (ipykernel)",
   "language": "python",
   "name": "python3"
  },
  "language_info": {
   "codemirror_mode": {
    "name": "ipython",
    "version": 3
   },
   "file_extension": ".py",
   "mimetype": "text/x-python",
   "name": "python",
   "nbconvert_exporter": "python",
   "pygments_lexer": "ipython3",
   "version": "3.9.7"
  }
 },
 "nbformat": 4,
 "nbformat_minor": 5
}
