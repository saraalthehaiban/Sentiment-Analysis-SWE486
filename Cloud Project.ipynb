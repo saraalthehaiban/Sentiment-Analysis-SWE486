{
 "cells": [
  {
   "cell_type": "code",
   "execution_count": null,
   "id": "ed515eba",
   "metadata": {},
   "outputs": [],
   "source": [
    "import tweepy as tw\n",
    "import os\n",
    "import numpy as np\n",
    "import pandas as pd\n",
    "from time import sleep\n",
    "from IPython.display import display\n",
    "import csv\n",
    "from credentials import *"
   ]
  },
  {
   "cell_type": "code",
   "execution_count": null,
   "id": "cbb6f22e",
   "metadata": {},
   "outputs": [],
   "source": [
    "ACCESS_TOKEN = \"1042866445154246656-PPMncxNFm54Jpx46txGmQnlZnoM9Bb\"\n",
    "ACCESS_TOKEN_SECRET = \"taEQDb1fPtLpV4Zhgk1WxfcP4Ue4U3jKbuPGwYhYTH9Pt\"\n",
    "CONSUMER_KEY = \"xOwthkCW5VEUEFbaO6npvZqx5\"\n",
    "CONSUMER_SECRET = \"GQtvWimqUX4hso29AediaofzWejQFiXMxpEtc5xig8fKt2ixG4\""
   ]
  },
  {
   "cell_type": "code",
   "execution_count": null,
   "id": "671e5a3f",
   "metadata": {},
   "outputs": [],
   "source": [
    "auth = tw.OAuthHandler(CONSUMER_KEY, CONSUMER_SECRET)\n",
    "auth.set_access_token(ACCESS_TOKEN, ACCESS_TOKEN_SECRET)\n",
    "api = tw.API(auth, wait_on_rate_limit = True)"
   ]
  },
  {
   "cell_type": "code",
   "execution_count": null,
   "id": "5530d7f4",
   "metadata": {},
   "outputs": [],
   "source": [
    "csvFile = open('tweets.csv','a')"
   ]
  },
  {
   "cell_type": "code",
   "execution_count": null,
   "id": "772260dc",
   "metadata": {},
   "outputs": [],
   "source": [
    "csvWriter = csv.writer(csvFile)\n",
    "search_phrase = 'اسعار الأراضي-filter:retweets'\n",
    "date_since = '2019-1-01'\n",
    "results = []\n",
    "for tweet in tw.Cursor(api.search_tweets, tweet_mode = 'extended', q = search_phrase, lang = \"ar\", since = date_since).items():\n",
    "   results.append(tweet)\n",
    "   csvWriter.writerow([tweet.created_at, tweet])"
   ]
  }
 ],
 "metadata": {
  "kernelspec": {
   "display_name": "Python 3 (ipykernel)",
   "language": "python",
   "name": "python3"
  },
  "language_info": {
   "codemirror_mode": {
    "name": "ipython",
    "version": 3
   },
   "file_extension": ".py",
   "mimetype": "text/x-python",
   "name": "python",
   "nbconvert_exporter": "python",
   "pygments_lexer": "ipython3",
   "version": "3.9.7"
  }
 },
 "nbformat": 4,
 "nbformat_minor": 5
}
