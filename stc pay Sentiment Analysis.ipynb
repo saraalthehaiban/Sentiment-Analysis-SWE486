{
 "cells": [
  {
   "cell_type": "code",
   "execution_count": null,
   "id": "99c3d7d6",
   "metadata": {},
   "outputs": [],
   "source": [
    "import os\n",
    "import tweepy\n",
    "import pandas as pd \n",
    "from time import sleep"
   ]
  },
  {
   "cell_type": "code",
   "execution_count": null,
   "id": "48bcf55d",
   "metadata": {},
   "outputs": [],
   "source": [
    "ACCESS_TOKEN = '1042866445154246656-PPMncxNFm54Jpx46txGmQnlZnoM9Bb'\n",
    "ACCESS_TOKEN_SECRET = 'taEQDb1fPtLpV4Zhgk1WxfcP4Ue4U3jKbuPGwYhYTH9Pt'\n",
    "CONSUMER_KEY = 'xOwthkCW5VEUEFbaO6npvZqx5'\n",
    "CONSUMER_SECRET = 'GQtvWimqUX4hso29AediaofzWejQFiXMxpEtc5xig8fKt2ixG4'\n",
    "BEARER_TOKEN = 'AAAAAAAAAAAAAAAAAAAAACSEZAEAAAAAky0nVS%2BOTnyFis52x7RRXswf15o%3DsvRJhBMPlP9lJIwWCWYZRthRNLIogOiU0JptcJntRoHYJ9ZOI9'"
   ]
  },
  {
   "cell_type": "code",
   "execution_count": null,
   "id": "d61f983f",
   "metadata": {},
   "outputs": [],
   "source": [
    "auth = tweepy.OAuthHandler(CONSUMER_KEY, CONSUMER_SECRET)\n",
    "auth.set_access_token(ACCESS_TOKEN, ACCESS_TOKEN_SECRET)\n",
    "api = tweepy.API(auth)"
   ]
  },
  {
   "cell_type": "code",
   "execution_count": null,
   "id": "c1df8be6",
   "metadata": {},
   "outputs": [],
   "source": [
    "search_phrase = 'stc pay'\n",
    "tweets = []\n",
    "likes = []\n",
    "time = []\n",
    "retweets = []\n",
    "for tweet in tweepy.Cursor(api.search_tweets,tweet_mode = 'extended',\n",
    "                           q = search_phrase, lang = \"ar\").items():\n",
    "    sleep(1)\n",
    "    tweets.append(tweet.full_text)\n",
    "    likes.append(tweet.favorite_count)\n",
    "    time.append(tweet.created_at)\n",
    "    retweets.append(tweet.retweet_count)"
   ]
  },
  {
   "cell_type": "code",
   "execution_count": null,
   "id": "a69c9ffd",
   "metadata": {},
   "outputs": [],
   "source": [
    "df = pd.DataFrame({'Tweet': tweets,\n",
    "                   ' No. Likes': likes,\n",
    "                   'Time': time, 'No. Retweets': retweets})\n",
    "df.to_csv('stc pay.csv')"
   ]
  },
  {
   "cell_type": "code",
   "execution_count": null,
   "id": "65dabb9f",
   "metadata": {},
   "outputs": [],
   "source": [
    "search_phrase = 'stcpay'\n",
    "tweets = []\n",
    "likes = []\n",
    "time = []\n",
    "retweets = []\n",
    "for tweet in tweepy.Cursor(api.search_tweets,tweet_mode = 'extended',\n",
    "                           q = search_phrase, lang = \"ar\").items():\n",
    "    sleep(1)\n",
    "    tweets.append(tweet.full_text)\n",
    "    likes.append(tweet.favorite_count)\n",
    "    time.append(tweet.created_at)\n",
    "    retweets.append(tweet.retweet_count)"
   ]
  },
  {
   "cell_type": "code",
   "execution_count": null,
   "id": "61770c4d",
   "metadata": {},
   "outputs": [],
   "source": [
    "df = pd.DataFrame({'Tweet': tweets,\n",
    "                   ' No. Likes': likes,\n",
    "                   'Time': time, 'No. Retweets': retweets})\n",
    "df.to_csv('stcpay.csv')"
   ]
  },
  {
   "cell_type": "code",
   "execution_count": null,
   "id": "9526a35f",
   "metadata": {},
   "outputs": [],
   "source": [
    "search_phrase = 'خدمة اس تي سي باي'\n",
    "tweets = []\n",
    "likes = []\n",
    "time = []\n",
    "retweets = []\n",
    "for tweet in tweepy.Cursor(api.search_tweets,tweet_mode = 'extended',\n",
    "                           q = search_phrase, lang = \"ar\").items():\n",
    "    sleep(1)\n",
    "    tweets.append(tweet.full_text)\n",
    "    likes.append(tweet.favorite_count)\n",
    "    time.append(tweet.created_at)\n",
    "    retweets.append(tweet.retweet_count)"
   ]
  },
  {
   "cell_type": "code",
   "execution_count": null,
   "id": "c8451b2a",
   "metadata": {},
   "outputs": [],
   "source": [
    "df = pd.DataFrame({'Tweet': tweets,\n",
    "                   ' No. Likes': likes,\n",
    "                   'Time': time, 'No. Retweets': retweets})\n",
    "df.to_csv('خدمة اس تي سي باي.csv')"
   ]
  },
  {
   "cell_type": "code",
   "execution_count": null,
   "id": "d1baca7f",
   "metadata": {},
   "outputs": [],
   "source": [
    "search_phrase = 'خدمة تطبيق stcpay'\n",
    "tweets = []\n",
    "likes = []\n",
    "time = []\n",
    "retweets = []\n",
    "for tweet in tweepy.Cursor(api.search_tweets,tweet_mode = 'extended',\n",
    "                           q = search_phrase, lang = \"ar\").items():\n",
    "    sleep(1)\n",
    "    tweets.append(tweet.full_text)\n",
    "    likes.append(tweet.favorite_count)\n",
    "    time.append(tweet.created_at)\n",
    "    retweets.append(tweet.retweet_count)"
   ]
  },
  {
   "cell_type": "code",
   "execution_count": null,
   "id": "58f1c776",
   "metadata": {},
   "outputs": [],
   "source": [
    "df = pd.DataFrame({'Tweet': tweets,\n",
    "                   ' No. Likes': likes,\n",
    "                   'Time': time, 'No. Retweets': retweets})\n",
    "df.to_csv('خدمة تطبيق stcpay.csv')"
   ]
  },
  {
   "cell_type": "code",
   "execution_count": null,
   "id": "5569b0f8",
   "metadata": {},
   "outputs": [],
   "source": [
    "search_phrase = 'خدمة stcpay'\n",
    "tweets = []\n",
    "likes = []\n",
    "time = []\n",
    "retweets = []\n",
    "for tweet in tweepy.Cursor(api.search_tweets,tweet_mode = 'extended',\n",
    "                           q = search_phrase, lang = \"ar\").items():\n",
    "    sleep(1)\n",
    "    tweets.append(tweet.full_text)\n",
    "    likes.append(tweet.favorite_count)\n",
    "    time.append(tweet.created_at)\n",
    "    retweets.append(tweet.retweet_count)"
   ]
  },
  {
   "cell_type": "code",
   "execution_count": null,
   "id": "2ef95878",
   "metadata": {},
   "outputs": [],
   "source": [
    "df = pd.DataFrame({'Tweet': tweets,\n",
    "                   ' No. Likes': likes,\n",
    "                   'Time': time, 'No. Retweets': retweets})\n",
    "df.to_csv('خدمة stcpay.csv')"
   ]
  },
  {
   "cell_type": "code",
   "execution_count": null,
   "id": "5c8e5278",
   "metadata": {},
   "outputs": [],
   "source": [
    "search_phrase = 'محفظة اس تي سي باي'\n",
    "tweets = []\n",
    "likes = []\n",
    "time = []\n",
    "retweets = []\n",
    "for tweet in tweepy.Cursor(api.search_tweets,tweet_mode = 'extended',\n",
    "                           q = search_phrase, lang = \"ar\").items():\n",
    "    sleep(1)\n",
    "    tweets.append(tweet.full_text)\n",
    "    likes.append(tweet.favorite_count)\n",
    "    time.append(tweet.created_at)\n",
    "    retweets.append(tweet.retweet_count)"
   ]
  },
  {
   "cell_type": "code",
   "execution_count": null,
   "id": "a8229ecf",
   "metadata": {},
   "outputs": [],
   "source": [
    "df = pd.DataFrame({'Tweet': tweets,\n",
    "                   ' No. Likes': likes,\n",
    "                   'Time': time, 'No. Retweets': retweets})\n",
    "df.to_csv('محفظة اس تي سي باي.csv')"
   ]
  },
  {
   "cell_type": "code",
   "execution_count": 38,
   "id": "69e8b86f",
   "metadata": {},
   "outputs": [
    {
     "data": {
      "text/html": [
       "<div>\n",
       "<style scoped>\n",
       "    .dataframe tbody tr th:only-of-type {\n",
       "        vertical-align: middle;\n",
       "    }\n",
       "\n",
       "    .dataframe tbody tr th {\n",
       "        vertical-align: top;\n",
       "    }\n",
       "\n",
       "    .dataframe thead th {\n",
       "        text-align: right;\n",
       "    }\n",
       "</style>\n",
       "<table border=\"1\" class=\"dataframe\">\n",
       "  <thead>\n",
       "    <tr style=\"text-align: right;\">\n",
       "      <th></th>\n",
       "      <th>Tweet</th>\n",
       "      <th>No. Likes</th>\n",
       "      <th>Time</th>\n",
       "      <th>No. Retweets</th>\n",
       "    </tr>\n",
       "  </thead>\n",
       "  <tbody>\n",
       "    <tr>\n",
       "      <th>0</th>\n",
       "      <td>فلوسي اختفت من stc pay فجأه رصيدي صار صفر وماف...</td>\n",
       "      <td>0</td>\n",
       "      <td>2022-02-24 00:00:22+00:00</td>\n",
       "      <td>0</td>\n",
       "    </tr>\n",
       "    <tr>\n",
       "      <th>1</th>\n",
       "      <td>@SaAskExp Stc pay وفيه خانة تحويل عن طريق مسان...</td>\n",
       "      <td>0</td>\n",
       "      <td>2022-02-23 23:58:38+00:00</td>\n",
       "      <td>0</td>\n",
       "    </tr>\n",
       "    <tr>\n",
       "      <th>2</th>\n",
       "      <td>@AmB99o إذا كان لديك أي مشكلة مع حساب STC pay ...</td>\n",
       "      <td>0</td>\n",
       "      <td>2022-02-23 23:56:55+00:00</td>\n",
       "      <td>0</td>\n",
       "    </tr>\n",
       "    <tr>\n",
       "      <th>3</th>\n",
       "      <td>@sweet8838 إذا كان لديك أي مشكلة مع حساب STC p...</td>\n",
       "      <td>0</td>\n",
       "      <td>2022-02-23 23:54:59+00:00</td>\n",
       "      <td>0</td>\n",
       "    </tr>\n",
       "    <tr>\n",
       "      <th>4</th>\n",
       "      <td>@AlMadanmfa إذا كان لديك أي مشكلة مع حساب STC ...</td>\n",
       "      <td>0</td>\n",
       "      <td>2022-02-23 23:54:31+00:00</td>\n",
       "      <td>0</td>\n",
       "    </tr>\n",
       "    <tr>\n",
       "      <th>...</th>\n",
       "      <td>...</td>\n",
       "      <td>...</td>\n",
       "      <td>...</td>\n",
       "      <td>...</td>\n",
       "    </tr>\n",
       "    <tr>\n",
       "      <th>2574</th>\n",
       "      <td>@Shrqia__girl Stc pay تعرف اسم امها  ومعلوماته...</td>\n",
       "      <td>0</td>\n",
       "      <td>2022-02-16 17:09:03+00:00</td>\n",
       "      <td>0</td>\n",
       "    </tr>\n",
       "    <tr>\n",
       "      <th>2575</th>\n",
       "      <td>@stcpay_ksa    السلام عليكم ورحمة الله وبركاته...</td>\n",
       "      <td>1</td>\n",
       "      <td>2022-02-16 17:06:24+00:00</td>\n",
       "      <td>0</td>\n",
       "    </tr>\n",
       "    <tr>\n",
       "      <th>2576</th>\n",
       "      <td>@stcpay_ksa السلام عليكم \\nارسلت مبلغ من حساب ...</td>\n",
       "      <td>0</td>\n",
       "      <td>2022-02-16 17:04:50+00:00</td>\n",
       "      <td>0</td>\n",
       "    </tr>\n",
       "    <tr>\n",
       "      <th>2577</th>\n",
       "      <td>@sehambader99 حياك الله 💜\\nلإصدار بطاقتك ، افت...</td>\n",
       "      <td>0</td>\n",
       "      <td>2022-02-16 17:04:49+00:00</td>\n",
       "      <td>0</td>\n",
       "    </tr>\n",
       "    <tr>\n",
       "      <th>2578</th>\n",
       "      <td>@stcpay_ksa ياجماعه ارفعوا هشتاق ضد stc payالل...</td>\n",
       "      <td>0</td>\n",
       "      <td>2022-02-16 17:03:13+00:00</td>\n",
       "      <td>0</td>\n",
       "    </tr>\n",
       "  </tbody>\n",
       "</table>\n",
       "<p>2579 rows × 4 columns</p>\n",
       "</div>"
      ],
      "text/plain": [
       "                                                  Tweet   No. Likes  \\\n",
       "0     فلوسي اختفت من stc pay فجأه رصيدي صار صفر وماف...           0   \n",
       "1     @SaAskExp Stc pay وفيه خانة تحويل عن طريق مسان...           0   \n",
       "2     @AmB99o إذا كان لديك أي مشكلة مع حساب STC pay ...           0   \n",
       "3     @sweet8838 إذا كان لديك أي مشكلة مع حساب STC p...           0   \n",
       "4     @AlMadanmfa إذا كان لديك أي مشكلة مع حساب STC ...           0   \n",
       "...                                                 ...         ...   \n",
       "2574  @Shrqia__girl Stc pay تعرف اسم امها  ومعلوماته...           0   \n",
       "2575  @stcpay_ksa    السلام عليكم ورحمة الله وبركاته...           1   \n",
       "2576  @stcpay_ksa السلام عليكم \\nارسلت مبلغ من حساب ...           0   \n",
       "2577  @sehambader99 حياك الله 💜\\nلإصدار بطاقتك ، افت...           0   \n",
       "2578  @stcpay_ksa ياجماعه ارفعوا هشتاق ضد stc payالل...           0   \n",
       "\n",
       "                          Time  No. Retweets  \n",
       "0    2022-02-24 00:00:22+00:00             0  \n",
       "1    2022-02-23 23:58:38+00:00             0  \n",
       "2    2022-02-23 23:56:55+00:00             0  \n",
       "3    2022-02-23 23:54:59+00:00             0  \n",
       "4    2022-02-23 23:54:31+00:00             0  \n",
       "...                        ...           ...  \n",
       "2574 2022-02-16 17:09:03+00:00             0  \n",
       "2575 2022-02-16 17:06:24+00:00             0  \n",
       "2576 2022-02-16 17:04:50+00:00             0  \n",
       "2577 2022-02-16 17:04:49+00:00             0  \n",
       "2578 2022-02-16 17:03:13+00:00             0  \n",
       "\n",
       "[2579 rows x 4 columns]"
      ]
     },
     "execution_count": 38,
     "metadata": {},
     "output_type": "execute_result"
    }
   ],
   "source": [
    "df"
   ]
  },
  {
   "cell_type": "code",
   "execution_count": null,
   "id": "2ab0587c",
   "metadata": {},
   "outputs": [],
   "source": []
  }
 ],
 "metadata": {
  "kernelspec": {
   "display_name": "Python 3 (ipykernel)",
   "language": "python",
   "name": "python3"
  },
  "language_info": {
   "codemirror_mode": {
    "name": "ipython",
    "version": 3
   },
   "file_extension": ".py",
   "mimetype": "text/x-python",
   "name": "python",
   "nbconvert_exporter": "python",
   "pygments_lexer": "ipython3",
   "version": "3.9.7"
  }
 },
 "nbformat": 4,
 "nbformat_minor": 5
}
