{
 "cells": [
  {
   "cell_type": "code",
   "execution_count": null,
   "id": "5f4f8bd2",
   "metadata": {},
   "outputs": [],
   "source": [
    "import os\n",
    "import tweepy\n",
    "import pandas as pd \n",
    "from time import sleep"
   ]
  },
  {
   "cell_type": "code",
   "execution_count": null,
   "id": "e72833b9",
   "metadata": {},
   "outputs": [],
   "source": [
    "ACCESS_TOKEN = '1042866445154246656-PPMncxNFm54Jpx46txGmQnlZnoM9Bb'\n",
    "ACCESS_TOKEN_SECRET = 'taEQDb1fPtLpV4Zhgk1WxfcP4Ue4U3jKbuPGwYhYTH9Pt'\n",
    "CONSUMER_KEY = 'xOwthkCW5VEUEFbaO6npvZqx5'\n",
    "CONSUMER_SECRET = 'GQtvWimqUX4hso29AediaofzWejQFiXMxpEtc5xig8fKt2ixG4'\n",
    "BEARER_TOKEN = 'AAAAAAAAAAAAAAAAAAAAACSEZAEAAAAAky0nVS%2BOTnyFis52x7RRXswf15o%3DsvRJhBMPlP9lJIwWCWYZRthRNLIogOiU0JptcJntRoHYJ9ZOI9'"
   ]
  },
  {
   "cell_type": "code",
   "execution_count": null,
   "id": "430ebeb0",
   "metadata": {},
   "outputs": [],
   "source": [
    "auth = tweepy.OAuthHandler(CONSUMER_KEY, CONSUMER_SECRET)\n",
    "auth.set_access_token(ACCESS_TOKEN, ACCESS_TOKEN_SECRET)\n",
    "api = tweepy.API(auth)"
   ]
  },
  {
   "cell_type": "code",
   "execution_count": null,
   "id": "e95828f1",
   "metadata": {},
   "outputs": [],
   "source": [
    "search_phrase = 'stc pay'\n",
    "tweets = []\n",
    "likes = []\n",
    "time = []\n",
    "retweets = []\n",
    "for tweet in tweepy.Cursor(api.search_tweets,tweet_mode = 'extended',\n",
    "                           q = search_phrase, lang = \"ar\").items():\n",
    "    sleep(1)\n",
    "    tweets.append(tweet.full_text)\n",
    "    likes.append(tweet.favorite_count)\n",
    "    time.append(tweet.created_at)\n",
    "    retweets.append(tweet.retweet_count)"
   ]
  },
  {
   "cell_type": "code",
   "execution_count": null,
   "id": "7a9b390a",
   "metadata": {},
   "outputs": [],
   "source": [
    "df = pd.DataFrame({'Tweet': tweets,\n",
    "                   ' No. Likes': likes,\n",
    "                   'Time': time, 'No. Retweets': retweets})\n",
    "df.to_csv('stc pay.csv')"
   ]
  },
  {
   "cell_type": "code",
   "execution_count": null,
   "id": "e2c4ebdf",
   "metadata": {},
   "outputs": [],
   "source": [
    "search_phrase = 'stcpay'\n",
    "tweets = []\n",
    "likes = []\n",
    "time = []\n",
    "retweets = []\n",
    "for tweet in tweepy.Cursor(api.search_tweets,tweet_mode = 'extended',\n",
    "                           q = search_phrase, lang = \"ar\").items():\n",
    "    sleep(1)\n",
    "    tweets.append(tweet.full_text)\n",
    "    likes.append(tweet.favorite_count)\n",
    "    time.append(tweet.created_at)\n",
    "    retweets.append(tweet.retweet_count)"
   ]
  },
  {
   "cell_type": "code",
   "execution_count": null,
   "id": "f54a6801",
   "metadata": {},
   "outputs": [],
   "source": [
    "df = pd.DataFrame({'Tweet': tweets,\n",
    "                   ' No. Likes': likes,\n",
    "                   'Time': time, 'No. Retweets': retweets})\n",
    "df.to_csv('stcpay.csv')"
   ]
  },
  {
   "cell_type": "code",
   "execution_count": null,
   "id": "061ec4b1",
   "metadata": {},
   "outputs": [],
   "source": [
    "search_phrase = 'خدمة اس تي سي باي'\n",
    "tweets = []\n",
    "likes = []\n",
    "time = []\n",
    "retweets = []\n",
    "for tweet in tweepy.Cursor(api.search_tweets,tweet_mode = 'extended',\n",
    "                           q = search_phrase, lang = \"ar\").items():\n",
    "    sleep(1)\n",
    "    tweets.append(tweet.full_text)\n",
    "    likes.append(tweet.favorite_count)\n",
    "    time.append(tweet.created_at)\n",
    "    retweets.append(tweet.retweet_count)"
   ]
  },
  {
   "cell_type": "code",
   "execution_count": null,
   "id": "5fca9145",
   "metadata": {},
   "outputs": [],
   "source": [
    "df = pd.DataFrame({'Tweet': tweets,\n",
    "                   ' No. Likes': likes,\n",
    "                   'Time': time, 'No. Retweets': retweets})\n",
    "df.to_csv('خدمة اس تي سي باي.csv')"
   ]
  },
  {
   "cell_type": "code",
   "execution_count": null,
   "id": "c148e0e0",
   "metadata": {},
   "outputs": [],
   "source": [
    "search_phrase = 'خدمة تطبيق stcpay'\n",
    "tweets = []\n",
    "likes = []\n",
    "time = []\n",
    "retweets = []\n",
    "for tweet in tweepy.Cursor(api.search_tweets,tweet_mode = 'extended',\n",
    "                           q = search_phrase, lang = \"ar\").items():\n",
    "    sleep(1)\n",
    "    tweets.append(tweet.full_text)\n",
    "    likes.append(tweet.favorite_count)\n",
    "    time.append(tweet.created_at)\n",
    "    retweets.append(tweet.retweet_count)"
   ]
  },
  {
   "cell_type": "code",
   "execution_count": null,
   "id": "ad261ee1",
   "metadata": {},
   "outputs": [],
   "source": [
    "df = pd.DataFrame({'Tweet': tweets,\n",
    "                   ' No. Likes': likes,\n",
    "                   'Time': time, 'No. Retweets': retweets})\n",
    "df.to_csv('خدمة تطبيق stcpay.csv')"
   ]
  },
  {
   "cell_type": "code",
   "execution_count": null,
   "id": "2baceb04",
   "metadata": {},
   "outputs": [],
   "source": [
    "search_phrase = 'خدمة stcpay'\n",
    "tweets = []\n",
    "likes = []\n",
    "time = []\n",
    "retweets = []\n",
    "for tweet in tweepy.Cursor(api.search_tweets,tweet_mode = 'extended',\n",
    "                           q = search_phrase, lang = \"ar\").items():\n",
    "    sleep(1)\n",
    "    tweets.append(tweet.full_text)\n",
    "    likes.append(tweet.favorite_count)\n",
    "    time.append(tweet.created_at)\n",
    "    retweets.append(tweet.retweet_count)"
   ]
  },
  {
   "cell_type": "code",
   "execution_count": null,
   "id": "31bd1093",
   "metadata": {},
   "outputs": [],
   "source": [
    "df = pd.DataFrame({'Tweet': tweets,\n",
    "                   ' No. Likes': likes,\n",
    "                   'Time': time, 'No. Retweets': retweets})\n",
    "df.to_csv('خدمة stcpay.csv')"
   ]
  },
  {
   "cell_type": "code",
   "execution_count": null,
   "id": "505d9a8b",
   "metadata": {},
   "outputs": [],
   "source": [
    "search_phrase = 'محفظة اس تي سي باي'\n",
    "tweets = []\n",
    "likes = []\n",
    "time = []\n",
    "retweets = []\n",
    "for tweet in tweepy.Cursor(api.search_tweets,tweet_mode = 'extended',\n",
    "                           q = search_phrase, lang = \"ar\").items():\n",
    "    sleep(1)\n",
    "    tweets.append(tweet.full_text)\n",
    "    likes.append(tweet.favorite_count)\n",
    "    time.append(tweet.created_at)\n",
    "    retweets.append(tweet.retweet_count)"
   ]
  },
  {
   "cell_type": "code",
   "execution_count": null,
   "id": "2f4671dd",
   "metadata": {},
   "outputs": [],
   "source": [
    "df = pd.DataFrame({'Tweet': tweets,\n",
    "                   ' No. Likes': likes,\n",
    "                   'Time': time, 'No. Retweets': retweets})\n",
    "df.to_csv('محفظة اس تي سي باي.csv')"
   ]
  }
 ],
 "metadata": {
  "kernelspec": {
   "display_name": "Python 3 (ipykernel)",
   "language": "python",
   "name": "python3"
  },
  "language_info": {
   "codemirror_mode": {
    "name": "ipython",
    "version": 3
   },
   "file_extension": ".py",
   "mimetype": "text/x-python",
   "name": "python",
   "nbconvert_exporter": "python",
   "pygments_lexer": "ipython3",
   "version": "3.9.7"
  }
 },
 "nbformat": 4,
 "nbformat_minor": 5
}
