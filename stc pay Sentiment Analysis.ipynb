{
 "cells": [
  {
   "cell_type": "markdown",
   "id": "bc706a15",
   "metadata": {},
   "source": [
    "# stc pay"
   ]
  },
  {
   "cell_type": "code",
   "execution_count": null,
   "id": "2438b7a0",
   "metadata": {},
   "outputs": [],
   "source": [
    "#Cell No. 1\n",
    "import os\n",
    "import tweepy\n",
    "import pandas as pd \n",
    "from time import sleep"
   ]
  },
  {
   "cell_type": "code",
   "execution_count": null,
   "id": "643f9766",
   "metadata": {},
   "outputs": [],
   "source": [
    "#Cell No. 2\n",
    "ACCESS_TOKEN = '1042866445154246656-PPMncxNFm54Jpx46txGmQnlZnoM9Bb'\n",
    "ACCESS_TOKEN_SECRET = 'taEQDb1fPtLpV4Zhgk1WxfcP4Ue4U3jKbuPGwYhYTH9Pt'\n",
    "CONSUMER_KEY = 'xOwthkCW5VEUEFbaO6npvZqx5'\n",
    "CONSUMER_SECRET = 'GQtvWimqUX4hso29AediaofzWejQFiXMxpEtc5xig8fKt2ixG4'\n",
    "BEARER_TOKEN = 'AAAAAAAAAAAAAAAAAAAAACSEZAEAAAAAky0nVS%2BOTnyFis52x7RRXswf15o%3DsvRJhBMPlP9lJIwWCWYZRthRNLIogOiU0JptcJntRoHYJ9ZOI9'"
   ]
  },
  {
   "cell_type": "code",
   "execution_count": null,
   "id": "d68aa915",
   "metadata": {},
   "outputs": [],
   "source": [
    "#Cell No. 3\n",
    "auth = tweepy.OAuthHandler(CONSUMER_KEY, CONSUMER_SECRET)\n",
    "auth.set_access_token(ACCESS_TOKEN, ACCESS_TOKEN_SECRET)\n",
    "api = tweepy.API(auth)"
   ]
  },
  {
   "cell_type": "code",
   "execution_count": null,
   "id": "bc4ae2fa",
   "metadata": {},
   "outputs": [],
   "source": [
    "#Cell No. 4\n",
    "search_phrase = 'stc pay'\n",
    "tweets = []\n",
    "likes = []\n",
    "time = []\n",
    "retweets = []\n",
    "for tweet in tweepy.Cursor(api.search_tweets,tweet_mode = 'extended',\n",
    "                           q = search_phrase, lang = \"ar\").items():\n",
    "    sleep(1)\n",
    "    tweets.append(tweet.full_text)\n",
    "    likes.append(tweet.favorite_count)\n",
    "    time.append(tweet.created_at)\n",
    "    retweets.append(tweet.retweet_count)"
   ]
  },
  {
   "cell_type": "code",
   "execution_count": null,
   "id": "8a489282",
   "metadata": {},
   "outputs": [],
   "source": [
    "#Cell No. 5\n",
    "df = pd.DataFrame({'Tweet': tweets,\n",
    "                   ' No. Likes': likes,\n",
    "                   'Time': time, 'No. Retweets': retweets})\n",
    "df.to_csv('stc pay.csv')"
   ]
  },
  {
   "cell_type": "code",
   "execution_count": null,
   "id": "7817becb",
   "metadata": {},
   "outputs": [],
   "source": [
    "#Cell No. 6\n",
    "search_phrase = 'stcpay'\n",
    "tweets = []\n",
    "likes = []\n",
    "time = []\n",
    "retweets = []\n",
    "for tweet in tweepy.Cursor(api.search_tweets,tweet_mode = 'extended',\n",
    "                           q = search_phrase, lang = \"ar\").items():\n",
    "    sleep(1)\n",
    "    tweets.append(tweet.full_text)\n",
    "    likes.append(tweet.favorite_count)\n",
    "    time.append(tweet.created_at)\n",
    "    retweets.append(tweet.retweet_count)"
   ]
  },
  {
   "cell_type": "code",
   "execution_count": null,
   "id": "d80dbc5e",
   "metadata": {},
   "outputs": [],
   "source": [
    "#Cell No. 7\n",
    "df = pd.DataFrame({'Tweet': tweets,\n",
    "                   ' No. Likes': likes,\n",
    "                   'Time': time, 'No. Retweets': retweets})\n",
    "df.to_csv('stcpay.csv')"
   ]
  },
  {
   "cell_type": "code",
   "execution_count": null,
   "id": "40ec2a99",
   "metadata": {},
   "outputs": [],
   "source": [
    "#Cell No. 8\n",
    "search_phrase = 'خدمة اس تي سي باي'\n",
    "tweets = []\n",
    "likes = []\n",
    "time = []\n",
    "retweets = []\n",
    "for tweet in tweepy.Cursor(api.search_tweets,tweet_mode = 'extended',\n",
    "                           q = search_phrase, lang = \"ar\").items():\n",
    "    sleep(1)\n",
    "    tweets.append(tweet.full_text)\n",
    "    likes.append(tweet.favorite_count)\n",
    "    time.append(tweet.created_at)\n",
    "    retweets.append(tweet.retweet_count)"
   ]
  },
  {
   "cell_type": "code",
   "execution_count": null,
   "id": "79f4e7dd",
   "metadata": {},
   "outputs": [],
   "source": [
    "#Cell No. 9\n",
    "df = pd.DataFrame({'Tweet': tweets,\n",
    "                   ' No. Likes': likes,\n",
    "                   'Time': time, 'No. Retweets': retweets})\n",
    "df.to_csv('خدمة اس تي سي باي.csv')"
   ]
  },
  {
   "cell_type": "code",
   "execution_count": 49,
   "id": "924e09d6",
   "metadata": {},
   "outputs": [],
   "source": [
    "#Cell No. 10\n",
    "search_phrase = 'خدمة تطبيق stcpay'\n",
    "tweets = []\n",
    "likes = []\n",
    "time = []\n",
    "retweets = []\n",
    "for tweet in tweepy.Cursor(api.search_tweets,tweet_mode = 'extended',\n",
    "                           q = search_phrase, lang = \"ar\").items():\n",
    "    sleep(1)\n",
    "    tweets.append(tweet.full_text)\n",
    "    likes.append(tweet.favorite_count)\n",
    "    time.append(tweet.created_at)\n",
    "    retweets.append(tweet.retweet_count)"
   ]
  },
  {
   "cell_type": "code",
   "execution_count": 50,
   "id": "065d23cf",
   "metadata": {},
   "outputs": [],
   "source": [
    "\n",
    "df = pd.DataFrame({'Tweet': tweets,\n",
    "                   ' No. Likes': likes,\n",
    "                   'Time': time, 'No. Retweets': retweets})\n",
    "df.to_csv('خدمة تطبيق stcpay.csv')"
   ]
  },
  {
   "cell_type": "code",
   "execution_count": 44,
   "id": "7e7bcf11",
   "metadata": {},
   "outputs": [],
   "source": [
    "search_phrase = 'خدمة stcpay'\n",
    "tweets = []\n",
    "likes = []\n",
    "time = []\n",
    "retweets = []\n",
    "for tweet in tweepy.Cursor(api.search_tweets,tweet_mode = 'extended',\n",
    "                           q = search_phrase, lang = \"ar\").items():\n",
    "    sleep(1)\n",
    "    tweets.append(tweet.full_text)\n",
    "    likes.append(tweet.favorite_count)\n",
    "    time.append(tweet.created_at)\n",
    "    retweets.append(tweet.retweet_count)"
   ]
  },
  {
   "cell_type": "code",
   "execution_count": 45,
   "id": "995a9384",
   "metadata": {},
   "outputs": [],
   "source": [
    "df = pd.DataFrame({'Tweet': tweets,\n",
    "                   ' No. Likes': likes,\n",
    "                   'Time': time, 'No. Retweets': retweets})\n",
    "df.to_csv('خدمة stcpay.csv')"
   ]
  },
  {
   "cell_type": "code",
   "execution_count": 46,
   "id": "bc9fb2f3",
   "metadata": {},
   "outputs": [],
   "source": [
    "search_phrase = 'محفظة اس تي سي باي'\n",
    "tweets = []\n",
    "likes = []\n",
    "time = []\n",
    "retweets = []\n",
    "for tweet in tweepy.Cursor(api.search_tweets,tweet_mode = 'extended',\n",
    "                           q = search_phrase, lang = \"ar\").items():\n",
    "    sleep(1)\n",
    "    tweets.append(tweet.full_text)\n",
    "    likes.append(tweet.favorite_count)\n",
    "    time.append(tweet.created_at)\n",
    "    retweets.append(tweet.retweet_count)"
   ]
  },
  {
   "cell_type": "code",
   "execution_count": 48,
   "id": "21cd4aea",
   "metadata": {},
   "outputs": [],
   "source": [
    "df = pd.DataFrame({'Tweet': tweets,\n",
    "                   ' No. Likes': likes,\n",
    "                   'Time': time, 'No. Retweets': retweets})\n",
    "df.to_csv('محفظة اس تي سي باي.csv')"
   ]
  }
 ],
 "metadata": {
  "kernelspec": {
   "display_name": "Python 3 (ipykernel)",
   "language": "python",
   "name": "python3"
  },
  "language_info": {
   "codemirror_mode": {
    "name": "ipython",
    "version": 3
   },
   "file_extension": ".py",
   "mimetype": "text/x-python",
   "name": "python",
   "nbconvert_exporter": "python",
   "pygments_lexer": "ipython3",
   "version": "3.9.7"
  }
 },
 "nbformat": 4,
 "nbformat_minor": 5
}
