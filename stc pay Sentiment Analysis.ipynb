{
 "cells": [
  {
   "cell_type": "code",
   "execution_count": null,
   "id": "5e3910ab",
   "metadata": {},
   "outputs": [],
   "source": [
    "import os\n",
    "import tweepy\n",
    "import pandas as pd \n",
    "import numpy as np\n",
    "from time import sleep"
   ]
  },
  {
   "cell_type": "code",
   "execution_count": null,
   "id": "036e4a58",
   "metadata": {},
   "outputs": [],
   "source": [
    "ACCESS_TOKEN = '1042866445154246656-PPMncxNFm54Jpx46txGmQnlZnoM9Bb'\n",
    "ACCESS_TOKEN_SECRET = 'taEQDb1fPtLpV4Zhgk1WxfcP4Ue4U3jKbuPGwYhYTH9Pt'\n",
    "CONSUMER_KEY = 'xOwthkCW5VEUEFbaO6npvZqx5'\n",
    "CONSUMER_SECRET = 'GQtvWimqUX4hso29AediaofzWejQFiXMxpEtc5xig8fKt2ixG4'\n",
    "BEARER_TOKEN = 'AAAAAAAAAAAAAAAAAAAAACSEZAEAAAAAky0nVS%2BOTnyFis52x7RRXswf15o%3DsvRJhBMPlP9lJIwWCWYZRthRNLIogOiU0JptcJntRoHYJ9ZOI9'"
   ]
  },
  {
   "cell_type": "code",
   "execution_count": null,
   "id": "c5347953",
   "metadata": {},
   "outputs": [],
   "source": [
    "auth = tweepy.OAuthHandler(CONSUMER_KEY, CONSUMER_SECRET)\n",
    "auth.set_access_token(ACCESS_TOKEN, ACCESS_TOKEN_SECRET)\n",
    "api = tweepy.API(auth)"
   ]
  },
  {
   "cell_type": "code",
   "execution_count": null,
   "id": "cefce421",
   "metadata": {},
   "outputs": [],
   "source": [
    "search_phrase = 'stc pay'\n",
    "tweets = []\n",
    "likes = []\n",
    "time = []\n",
    "retweets = []\n",
    "date_since = '2019-1-01'\n",
    "for tweet in tweepy.Cursor(api.search_tweets,tweet_mode = 'extended', q = search_phrase, lang = \"ar\").items():\n",
    "    sleep(1)\n",
    "    tweets.append(tweet.full_text)\n",
    "    likes.append(tweet.favorite_count)\n",
    "    time.append(tweet.created_at)\n",
    "    retweets.append(tweet.retweet_count)"
   ]
  },
  {
   "cell_type": "code",
   "execution_count": null,
   "id": "1a818fee",
   "metadata": {},
   "outputs": [],
   "source": [
    "df = pd.DataFrame({'Tweet': tweets, ' No. Likes': likes, 'Time': time, 'No. Retweets': retweets})\n",
    "df.to_csv('stc pay.csv')\n",
    "df"
   ]
  },
  {
   "cell_type": "code",
   "execution_count": null,
   "id": "b0fc4b5b",
   "metadata": {},
   "outputs": [],
   "source": [
    "search_phrase_2 = 'اس تي سي باي'\n",
    "tweets_2 = []\n",
    "likes_2 = []\n",
    "time_2 = []\n",
    "retweets_2 = []\n",
    "date_since = '2019-1-01'\n",
    "for tweet in tweepy.Cursor(api.search_tweets,tweet_mode = 'extended', q = search_phrase_2, lang = \"ar\").items():\n",
    "    sleep(1)\n",
    "    tweets_2.append(tweet.full_text)\n",
    "    likes_2.append(tweet.favorite_count)\n",
    "    time_2.append(tweet.created_at)\n",
    "    retweets_2.append(tweet.retweet_count)"
   ]
  },
  {
   "cell_type": "code",
   "execution_count": null,
   "id": "c5d05522",
   "metadata": {},
   "outputs": [],
   "source": [
    "df_2 = pd.DataFrame({'Tweet': tweets_2, ' No. Likes': likes_2, 'Time': time_2, 'No. Retweets': retweets_2})\n",
    "df_2.to_csv('اس تي سي باي.csv')\n",
    "df_2"
   ]
  },
  {
   "cell_type": "code",
   "execution_count": null,
   "id": "3b87049f",
   "metadata": {},
   "outputs": [],
   "source": [
    "search_phrase_3 = 'إس تي سي باي'\n",
    "tweets_3 = []\n",
    "likes_3 = []\n",
    "time_3 = []\n",
    "retweets_3 = []\n",
    "date_since = '2019-1-01'\n",
    "for tweet in tweepy.Cursor(api.search_tweets,tweet_mode = 'extended', q = search_phrase_3, lang = \"ar\").items():\n",
    "    sleep(1)\n",
    "    tweets_3.append(tweet.full_text)\n",
    "    likes_3.append(tweet.favorite_count)\n",
    "    time_3.append(tweet.created_at)\n",
    "    retweets_3.append(tweet.retweet_count)"
   ]
  },
  {
   "cell_type": "code",
   "execution_count": null,
   "id": "279af27b",
   "metadata": {},
   "outputs": [],
   "source": [
    "df_3 = pd.DataFrame({'Tweet': tweets_3, ' No. Likes': likes_3, 'Time': time_3, 'No. Retweets': retweets_3})\n",
    "df_3.to_csv('اس تي سي باي.csv')\n",
    "df_3"
   ]
  },
  {
   "cell_type": "code",
   "execution_count": null,
   "id": "80f2cea4",
   "metadata": {},
   "outputs": [],
   "source": [
    "search_phrase_1 = 'stc pay'\n",
    "tweets_1 = []\n",
    "likes_1 = []\n",
    "time_1 = []\n",
    "retweets_1 = []\n",
    "date_since = '2019-1-01'\n",
    "for tweet in tweepy.Cursor(api.search_tweets,tweet_mode = 'extended', q = search_phrase_1, lang = \"ar\").items():\n",
    "    sleep(1)\n",
    "    tweets_1.append(tweet.full_text)\n",
    "    likes_1.append(tweet.favorite_count)\n",
    "    time_1.append(tweet.created_at)\n",
    "    retweets_1.append(tweet.retweet_count)"
   ]
  },
  {
   "cell_type": "code",
   "execution_count": null,
   "id": "0c197a5d",
   "metadata": {},
   "outputs": [],
   "source": [
    "df_1 = pd.DataFrame({'Tweet': tweets_1, ' No. Likes': likes_1, 'Time': time_1, 'No. Retweets': retweets_1})\n",
    "df_1.to_csv('stcpay.csv')\n",
    "df_1"
   ]
  },
  {
   "cell_type": "code",
   "execution_count": null,
   "id": "cc9147d2",
   "metadata": {},
   "outputs": [],
   "source": [
    "search_phrase_4 = 'stcpay'\n",
    "tweets_4 = []\n",
    "likes_4 = []\n",
    "time_4 = []\n",
    "retweets_4 = []\n",
    "date_since = '2019-1-01'\n",
    "for tweet in tweepy.Cursor(api.search_tweets,tweet_mode = 'extended', q = search_phrase_4, lang = \"ar\").items():\n",
    "    sleep(1)\n",
    "    tweets_4.append(tweet.full_text)\n",
    "    likes_4.append(tweet.favorite_count)\n",
    "    time_4.append(tweet.created_at)\n",
    "    retweets_4.append(tweet.retweet_count)"
   ]
  },
  {
   "cell_type": "code",
   "execution_count": null,
   "id": "b02f6224",
   "metadata": {},
   "outputs": [],
   "source": [
    "df_4 = pd.DataFrame({'Tweet': tweets_4, ' No. Likes': likes_4, 'Time': time_4, 'No. Retweets': retweets_4})\n",
    "df_4.to_csv('STCpay*.csv')\n",
    "df_4"
   ]
  },
  {
   "cell_type": "code",
   "execution_count": null,
   "id": "412fd225",
   "metadata": {},
   "outputs": [],
   "source": []
  }
 ],
 "metadata": {
  "kernelspec": {
   "display_name": "Python 3 (ipykernel)",
   "language": "python",
   "name": "python3"
  },
  "language_info": {
   "codemirror_mode": {
    "name": "ipython",
    "version": 3
   },
   "file_extension": ".py",
   "mimetype": "text/x-python",
   "name": "python",
   "nbconvert_exporter": "python",
   "pygments_lexer": "ipython3",
   "version": "3.9.7"
  }
 },
 "nbformat": 4,
 "nbformat_minor": 5
}
