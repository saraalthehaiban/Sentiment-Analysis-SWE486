{
 "cells": [
  {
   "cell_type": "code",
   "execution_count": null,
   "id": "d82d7bea",
   "metadata": {},
   "outputs": [],
   "source": [
    "import os\n",
    "import tweepy\n",
    "import pandas as pd \n",
    "import numpy as np\n",
    "from time import sleep"
   ]
  },
  {
   "cell_type": "code",
   "execution_count": null,
   "id": "6b5b8899",
   "metadata": {},
   "outputs": [],
   "source": [
    "ACCESS_TOKEN = '901396530-E3VW2MUAphKa1B8IREoCAGd8nb9sUgueelZBKsFB'\n",
    "ACCESS_TOKEN_SECRET = 'zj5ZWoHk9nrWaGD1ZWi5uaoQrls5FTbLKj94YBez1sunF'\n",
    "CONSUMER_KEY = 'Mj81PKhrlLYOn2CNVEeExkXXl'\n",
    "CONSUMER_SECRET = 'ntEsdxsYBe7z56d0hkfbchJ3mGNPdfNoy1ohW9YH3hzeudz3IM'\n",
    "BEARER_TOKEN = 'AAAAAAAAAAAAAAAAAAAAAHrBUgEAAAAAmTEaFANS948ScjqzCqKaqTwJhsk%3DjHPKICESqERQragYDwtVuBUDmeIDk5MzyYiVw3VeSexlBpgHB2'"
   ]
  },
  {
   "cell_type": "code",
   "execution_count": null,
   "id": "2a84fc27",
   "metadata": {},
   "outputs": [],
   "source": [
    "auth = tweepy.OAuthHandler(CONSUMER_KEY, CONSUMER_SECRET)\n",
    "auth.set_access_token(ACCESS_TOKEN, ACCESS_TOKEN_SECRET)\n",
    "api = tweepy.API(auth)\n",
    "client = tweepy.Client(BEARER_TOKEN, wait_on_rate_limit=True)\n"
   ]
  },
  {
   "cell_type": "code",
   "execution_count": null,
   "id": "1d6d7be4",
   "metadata": {},
   "outputs": [],
   "source": [
    "search_phrase_5 = 'اس تي سي باي'\n",
    "tweets_5 = []\n",
    "likes_5 = []\n",
    "time_5 = []\n",
    "retweets_5 = []\n",
    "date_since = datetime(2019,1,1)\n",
    "for tweet in tweepy.Cursor(api.search_tweets,tweet_mode = 'extended', q = search_phrase_5, lang = \"ar\", since = date_since).items():\n",
    "    sleep(1)\n",
    "    tweets_5.append(tweet.full_text)\n",
    "    likes_5.append(tweet.favorite_count)\n",
    "    time_5.append(tweet.created_at)\n",
    "    retweets_5.append(tweet.retweet_count)"
   ]
  },
  {
   "cell_type": "code",
   "execution_count": null,
   "id": "101fa5bf",
   "metadata": {},
   "outputs": [],
   "source": [
    "df_5 = pd.DataFrame({'Tweet': tweets_5, ' No. Likes': likes_5, 'Time': time_5, 'No. Retweets': retweets_5})\n",
    "df_5.to_csv('اس تي سي باي.csv')\n",
    "df_5"
   ]
  },
  {
   "cell_type": "code",
   "execution_count": null,
   "id": "4fc72356",
   "metadata": {},
   "outputs": [],
   "source": []
  }
 ],
 "metadata": {
  "kernelspec": {
   "display_name": "Python 3 (ipykernel)",
   "language": "python",
   "name": "python3"
  },
  "language_info": {
   "codemirror_mode": {
    "name": "ipython",
    "version": 3
   },
   "file_extension": ".py",
   "mimetype": "text/x-python",
   "name": "python",
   "nbconvert_exporter": "python",
   "pygments_lexer": "ipython3",
   "version": "3.9.7"
  }
 },
 "nbformat": 4,
 "nbformat_minor": 5
}
